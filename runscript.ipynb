{
 "cells": [
  {
   "cell_type": "code",
   "execution_count": 3,
   "metadata": {},
   "outputs": [],
   "source": [
    "import open3d as o3d\n",
    "import os\n",
    "\n",
    "input_path = 'D:\\WorkData\\share\\ScanNet\\scene_raw/'\n",
    "output_path = 'D:/WorkData/NRSC/output/scene_raw/'\n",
    "if not os.path.exists(output_path):\n",
    "    os.makedirs(output_path)\n",
    "\n",
    "filenamelist = os.listdir(input_path)\n",
    "filenamelist = [file for file in filenamelist if file.endswith('.ply')]\n",
    "\n",
    "filelist = []\n",
    "for file in filenamelist:\n",
    "    filelist.append(os.path.join(input_path, file))"
   ]
  },
  {
   "cell_type": "markdown",
   "metadata": {},
   "source": [
    "### 使用PCA预估"
   ]
  },
  {
   "cell_type": "code",
   "execution_count": 4,
   "metadata": {},
   "outputs": [
    {
     "name": "stdout",
     "output_type": "stream",
     "text": [
      "0 D:\\WorkData\\share\\ScanNet\\scene_raw/scene0000_00_vh_clean.ply\n"
     ]
    },
    {
     "ename": "FileNotFoundError",
     "evalue": "[Errno 2] No such file or directory: 'D:/WorkData/NRSC/output/scene_raw/\\\\ori\\\\scene0000_00_vh_clean.ply'",
     "output_type": "error",
     "traceback": [
      "\u001b[1;31m---------------------------------------------------------------------------\u001b[0m",
      "\u001b[1;31mFileNotFoundError\u001b[0m                         Traceback (most recent call last)",
      "\u001b[1;32m~\\AppData\\Local\\Temp\\ipykernel_27508\\3342961497.py\u001b[0m in \u001b[0;36m<module>\u001b[1;34m\u001b[0m\n\u001b[0;32m     31\u001b[0m     \u001b[0mprint\u001b[0m\u001b[1;33m(\u001b[0m\u001b[0mi\u001b[0m\u001b[1;33m,\u001b[0m \u001b[0mfilelist\u001b[0m\u001b[1;33m[\u001b[0m\u001b[0mi\u001b[0m\u001b[1;33m]\u001b[0m\u001b[1;33m)\u001b[0m\u001b[1;33m\u001b[0m\u001b[1;33m\u001b[0m\u001b[0m\n\u001b[0;32m     32\u001b[0m     \u001b[0mpcd\u001b[0m \u001b[1;33m=\u001b[0m \u001b[0mo3d\u001b[0m\u001b[1;33m.\u001b[0m\u001b[0mio\u001b[0m\u001b[1;33m.\u001b[0m\u001b[0mread_point_cloud\u001b[0m\u001b[1;33m(\u001b[0m\u001b[0mfilelist\u001b[0m\u001b[1;33m[\u001b[0m\u001b[0mi\u001b[0m\u001b[1;33m]\u001b[0m\u001b[1;33m)\u001b[0m\u001b[1;33m\u001b[0m\u001b[1;33m\u001b[0m\u001b[0m\n\u001b[1;32m---> 33\u001b[1;33m     \u001b[0mwrite_xyznxnynz\u001b[0m\u001b[1;33m(\u001b[0m\u001b[0mpcd\u001b[0m\u001b[1;33m,\u001b[0m \u001b[0morioutpath\u001b[0m\u001b[1;33m+\u001b[0m\u001b[1;34m'\\\\'\u001b[0m\u001b[1;33m+\u001b[0m\u001b[0mfilenamelist\u001b[0m\u001b[1;33m[\u001b[0m\u001b[0mi\u001b[0m\u001b[1;33m]\u001b[0m\u001b[1;33m)\u001b[0m\u001b[1;33m\u001b[0m\u001b[1;33m\u001b[0m\u001b[0m\n\u001b[0m\u001b[0;32m     34\u001b[0m     \u001b[0mpcd\u001b[0m\u001b[1;33m.\u001b[0m\u001b[0mnormals\u001b[0m \u001b[1;33m=\u001b[0m \u001b[0mo3d\u001b[0m\u001b[1;33m.\u001b[0m\u001b[0mutility\u001b[0m\u001b[1;33m.\u001b[0m\u001b[0mVector3dVector\u001b[0m\u001b[1;33m(\u001b[0m\u001b[1;33m[\u001b[0m\u001b[1;33m]\u001b[0m\u001b[1;33m)\u001b[0m\u001b[1;33m\u001b[0m\u001b[1;33m\u001b[0m\u001b[0m\n\u001b[0;32m     35\u001b[0m     \u001b[0mpcd\u001b[0m\u001b[1;33m.\u001b[0m\u001b[0mestimate_normals\u001b[0m\u001b[1;33m(\u001b[0m\u001b[0msearch_param\u001b[0m\u001b[1;33m=\u001b[0m\u001b[0mo3d\u001b[0m\u001b[1;33m.\u001b[0m\u001b[0mgeometry\u001b[0m\u001b[1;33m.\u001b[0m\u001b[0mKDTreeSearchParamHybrid\u001b[0m\u001b[1;33m(\u001b[0m\u001b[0mradius\u001b[0m\u001b[1;33m=\u001b[0m\u001b[1;36m0.1\u001b[0m\u001b[1;33m,\u001b[0m \u001b[0mmax_nn\u001b[0m\u001b[1;33m=\u001b[0m\u001b[1;36m10\u001b[0m\u001b[1;33m)\u001b[0m\u001b[1;33m)\u001b[0m\u001b[1;33m\u001b[0m\u001b[1;33m\u001b[0m\u001b[0m\n",
      "\u001b[1;32m~\\AppData\\Local\\Temp\\ipykernel_27508\\3342961497.py\u001b[0m in \u001b[0;36mwrite_xyznxnynz\u001b[1;34m(pcd, filename)\u001b[0m\n\u001b[0;32m      4\u001b[0m     \u001b[0mnxnynz\u001b[0m \u001b[1;33m=\u001b[0m \u001b[0mpcd\u001b[0m\u001b[1;33m.\u001b[0m\u001b[0mnormals\u001b[0m\u001b[1;33m\u001b[0m\u001b[1;33m\u001b[0m\u001b[0m\n\u001b[0;32m      5\u001b[0m     \u001b[1;31m# 输出ply格式文件\u001b[0m\u001b[1;33m\u001b[0m\u001b[1;33m\u001b[0m\u001b[1;33m\u001b[0m\u001b[0m\n\u001b[1;32m----> 6\u001b[1;33m     \u001b[1;32mwith\u001b[0m \u001b[0mopen\u001b[0m\u001b[1;33m(\u001b[0m\u001b[0mfilename\u001b[0m\u001b[1;33m,\u001b[0m \u001b[1;34m'w'\u001b[0m\u001b[1;33m)\u001b[0m \u001b[1;32mas\u001b[0m \u001b[0mf\u001b[0m\u001b[1;33m:\u001b[0m\u001b[1;33m\u001b[0m\u001b[1;33m\u001b[0m\u001b[0m\n\u001b[0m\u001b[0;32m      7\u001b[0m         \u001b[0mf\u001b[0m\u001b[1;33m.\u001b[0m\u001b[0mwrite\u001b[0m\u001b[1;33m(\u001b[0m\u001b[1;34m\"ply\\n\"\u001b[0m\u001b[1;33m)\u001b[0m\u001b[1;33m\u001b[0m\u001b[1;33m\u001b[0m\u001b[0m\n\u001b[0;32m      8\u001b[0m         \u001b[0mf\u001b[0m\u001b[1;33m.\u001b[0m\u001b[0mwrite\u001b[0m\u001b[1;33m(\u001b[0m\u001b[1;34m\"format ascii 1.0\\n\"\u001b[0m\u001b[1;33m)\u001b[0m\u001b[1;33m\u001b[0m\u001b[1;33m\u001b[0m\u001b[0m\n",
      "\u001b[1;31mFileNotFoundError\u001b[0m: [Errno 2] No such file or directory: 'D:/WorkData/NRSC/output/scene_raw/\\\\ori\\\\scene0000_00_vh_clean.ply'"
     ]
    }
   ],
   "source": [
    "# 输出pcd文件为ply,包含点云坐标和法向量\n",
    "def write_xyznxnynz(pcd,filename):\n",
    "    xyz = pcd.points\n",
    "    nxnynz = pcd.normals\n",
    "    # 输出ply格式文件\n",
    "    with open(filename, 'w') as f:\n",
    "        f.write(\"ply\\n\")\n",
    "        f.write(\"format ascii 1.0\\n\")\n",
    "        f.write(\"element vertex %d\\n\" % len(xyz))\n",
    "        f.write(\"property float x\\n\")\n",
    "        f.write(\"property float y\\n\")\n",
    "        f.write(\"property float z\\n\")\n",
    "        f.write(\"property float nx\\n\")\n",
    "        f.write(\"property float ny\\n\")\n",
    "        f.write(\"property float nz\\n\")\n",
    "        f.write(\"end_header\\n\")\n",
    "        for i in range(len(xyz)):\n",
    "            f.write(\"%f %f %f %f %f %f\\n\" % (xyz[i][0], xyz[i][1], xyz[i][2], nxnynz[i][0], nxnynz[i][1], nxnynz[i][2]))\n",
    "    print('Done:', filename)\n",
    "    \n",
    "\n",
    "pcaoutpath = output_path+'\\\\'+'pca'\n",
    "hoppeoutpath = output_path+'\\\\'+'hoppe'\n",
    "orioutpath = output_path+'\\\\'+'ori'\n",
    "if not os.path.exists(pcaoutpath):\n",
    "    os.makedirs(pcaoutpath)\n",
    "if not os.path.exists(hoppeoutpath):\n",
    "    os.makedirs(hoppeoutpath)\n",
    "\n",
    "for i in range(len(filelist)):\n",
    "    print(i, filelist[i])\n",
    "    pcd = o3d.io.read_point_cloud(filelist[i])\n",
    "    write_xyznxnynz(pcd, orioutpath+'\\\\'+filenamelist[i])\n",
    "    pcd.normals = o3d.utility.Vector3dVector([])\n",
    "    pcd.estimate_normals(search_param=o3d.geometry.KDTreeSearchParamHybrid(radius=0.1, max_nn=10))\n",
    "    write_xyznxnynz(pcd, pcaoutpath+'\\\\'+filenamelist[i])\n",
    "    pcd.orient_normals_consistent_tangent_plane(10)\n",
    "    write_xyznxnynz(pcd, hoppeoutpath+'\\\\'+filenamelist[i])\n",
    "    print('Done:', i)\n",
    "print('All Done')\n",
    "    \n",
    "    "
   ]
  },
  {
   "cell_type": "markdown",
   "metadata": {},
   "source": [
    "### 得到三种不同初值下的结果"
   ]
  },
  {
   "cell_type": "code",
   "execution_count": null,
   "metadata": {},
   "outputs": [],
   "source": [
    "exe_path = \"D:/Work/CG/myProject/NRSC_OP/NRSC-OP-EXE/normal_orientation_propagation_for_NRSC.exe\"\n",
    "\n",
    "ori_nrsc_path = output_path + '/ori_nrsc/'\n",
    "if not os.path.exists(ori_nrsc_path):\n",
    "    os.makedirs(ori_nrsc_path)\n",
    "\n",
    "pca_nrsc_path = output_path + '/pca_nrsc/'\n",
    "if not os.path.exists(pca_nrsc_path):\n",
    "    os.makedirs(pca_nrsc_path)\n",
    "hoppe_nrsc_path = output_path + '/hoppe_nrsc/'\n",
    "if not os.path.exists(hoppe_nrsc_path):\n",
    "    os.makedirs(hoppe_nrsc_path)\n",
    "\n",
    "# 并行处理\n",
    "for i in range(len(filelist)):\n",
    "    ori_path = filelist[i]\n",
    "    pca_path = pcaoutpath+'\\\\'+filenamelist[i]\n",
    "    hoppe_path = hoppeoutpath+'\\\\'+filenamelist[i]\n",
    "    \n",
    "    cmd = exe_path+' --in '+pca_path+' --out '+ pca_nrsc_path + filenamelist[i]\n",
    "    print(cmd)\n",
    "    os.system(cmd)\n",
    "    \n",
    "    cmd = exe_path+' --in '+hoppe_path+' --out '+ hoppe_nrsc_path + filenamelist[i]\n",
    "    print(cmd)\n",
    "    os.system(cmd)\n",
    "    \n",
    "    cmd = exe_path+' --in '+ori_path+' --out '+ ori_nrsc_path + filenamelist[i]\n",
    "    print(cmd)\n",
    "    os.system(cmd)\n",
    "    print('Done:', i)"
   ]
  },
  {
   "cell_type": "code",
   "execution_count": null,
   "metadata": {},
   "outputs": [],
   "source": [
    "import numpy as np\n",
    "def cal_loss(pcd_gt, pcd):\n",
    "    normals_gt = np.asarray(pcd_gt.normals)\n",
    "    normals = np.asarray(pcd.normals)\n",
    "    loss = np.sum(np.abs(normals_gt - normals))\n",
    "    return loss\n",
    "\n",
    "for filename in filelist:\n",
    "    pcd_gt = o3d.io.read_point_cloud(input_path+'\\\\'+filename)\n",
    "    pcd_pca = o3d.io.read_point_cloud(pcaoutpath+'\\\\'+filename)\n",
    "    pcd_hoppe = o3d.io.read_point_cloud(hoppeoutpath+'\\\\'+filename)\n",
    "    pcd_ori_nrsc = o3d.io.read_point_cloud(ori_nrsc_path+filename)\n",
    "    pcd_pca_nrsc = o3d.io.read_point_cloud(pca_nrsc_path+filename)\n",
    "    pcd_hoppe_nrsc = o3d.io.read_point_cloud(hoppe_nrsc_path+filename)\n",
    "    \n",
    "    loss_pca = cal_loss(pcd_gt, pcd_pca)\n",
    "    loss_hoppe = cal_loss(pcd_gt, pcd_hoppe)\n",
    "    loss_ori_nrsc = cal_loss(pcd_gt, pcd_ori_nrsc)\n",
    "    loss_pca_nrsc = cal_loss(pcd_gt, pcd_pca_nrsc)\n",
    "    loss_hoppe_nrsc = cal_loss(pcd_gt, pcd_hoppe_nrsc)\n",
    "    \n",
    "    print(filename + ' loss_pca:' + str(loss_pca) + ' loss_hoppe:' + str(loss_hoppe) + ' loss_ori_nrsc:' + str(loss_ori_nrsc) + ' loss_pca_nrsc:' + str(loss_pca_nrsc) + ' loss_hoppe_nrsc:' + str(loss_hoppe_nrsc))\n",
    "    \n",
    "print('All Done')\n",
    "    \n"
   ]
  }
 ],
 "metadata": {
  "kernelspec": {
   "display_name": "CG",
   "language": "python",
   "name": "python3"
  },
  "language_info": {
   "codemirror_mode": {
    "name": "ipython",
    "version": 3
   },
   "file_extension": ".py",
   "mimetype": "text/x-python",
   "name": "python",
   "nbconvert_exporter": "python",
   "pygments_lexer": "ipython3",
   "version": "3.7.12"
  }
 },
 "nbformat": 4,
 "nbformat_minor": 2
}
