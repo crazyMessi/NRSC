{
 "cells": [
  {
   "cell_type": "code",
   "execution_count": 15,
   "metadata": {},
   "outputs": [
    {
     "name": "stdout",
     "output_type": "stream",
     "text": [
      "Done: temp\\14.ply\n"
     ]
    },
    {
     "data": {
      "text/plain": [
       "True"
      ]
     },
     "execution_count": 15,
     "metadata": {},
     "output_type": "execute_result"
    }
   ],
   "source": [
    "ply_path = \"D:\\WorkData\\ipsr_explore\\input\\scene_raw_noisy/scene0018_00_std_0.004.ply\"\n",
    "output = \"temp.ply\"\n",
    "\n",
    "import os\n",
    "import open3d as o3d\n",
    "import numpy as np\n",
    "import estimator\n",
    "pcd = o3d.io.read_point_cloud(ply_path)\n",
    "gt_normals = np.asarray(pcd.normals)\n",
    "xyz = np.asarray(pcd.points)\n",
    "xyz,normals = estimator.pca_and_nrsc(xyz,None)\n",
    "# xyz,normals = estimator.hoppe_and_nrsc(xyz,None)\n",
    "\n",
    "pcd.points = o3d.utility.Vector3dVector(xyz)\n",
    "pcd.normals = o3d.utility.Vector3dVector(normals)\n",
    "o3d.io.write_point_cloud(output,pcd)\n",
    "\n",
    "\n"
   ]
  },
  {
   "cell_type": "code",
   "execution_count": 14,
   "metadata": {},
   "outputs": [
    {
     "name": "stdout",
     "output_type": "stream",
     "text": [
      "total_count: 2655932\n",
      "avg_loss: 130.47946022259615\n",
      "avg_nd_loss: 49.520539777403854\n",
      "angle90_rate: 0.7489461326570108\n"
     ]
    }
   ],
   "source": [
    "import utils\n",
    "import importlib\n",
    "importlib.reload(utils)\n",
    "pcd = o3d.io.read_point_cloud(ply_path)\n",
    "gt_normals = np.asarray(pcd.normals)\n",
    "# 将xyz和normals存储为(n,2,3)的数组\n",
    "xyz_normals = np.stack([xyz,normals],axis=1)\n",
    "gt_and_normals = np.stack([xyz,gt_normals],axis=1)\n",
    "m = utils.PointNormalMetric(xyz_normals,gt_and_normals)\n",
    "m.print()"
   ]
  }
 ],
 "metadata": {
  "kernelspec": {
   "display_name": "CG",
   "language": "python",
   "name": "python3"
  },
  "language_info": {
   "codemirror_mode": {
    "name": "ipython",
    "version": 3
   },
   "file_extension": ".py",
   "mimetype": "text/x-python",
   "name": "python",
   "nbconvert_exporter": "python",
   "pygments_lexer": "ipython3",
   "version": "3.7.0"
  }
 },
 "nbformat": 4,
 "nbformat_minor": 2
}
