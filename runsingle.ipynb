{
 "cells": [
  {
   "cell_type": "code",
   "execution_count": 1,
   "metadata": {},
   "outputs": [
    {
     "name": "stdout",
     "output_type": "stream",
     "text": [
      "Jupyter environment detected. Enabling Open3D WebVisualizer.\n",
      "[Open3D INFO] WebRTC GUI backend enabled.\n",
      "[Open3D INFO] WebRTCWindowSystem: HTTP handshake server disabled.\n",
      "Done: temp\\1725201841.7832897.ply\n"
     ]
    }
   ],
   "source": [
    "ply_path = \"D:\\WorkData\\ipsr_explore\\out\\it_10_dp_9_nb_10_sd_91_pt_10.000000\\scene0037_00_vh_clean/it_10_dp_9_nb_10_sd_91_pt_10.000000_init_op.ply\"\n",
    "\n",
    "import os\n",
    "import open3d as o3d\n",
    "import numpy as np\n",
    "import estimator\n",
    "pcd = o3d.io.read_point_cloud(ply_path)\n",
    "\n",
    "xyz = np.asarray(pcd.points)\n",
    "xyz,normals = estimator.pca_and_nrsc(xyz,None)\n"
   ]
  }
 ],
 "metadata": {
  "kernelspec": {
   "display_name": "CG",
   "language": "python",
   "name": "python3"
  },
  "language_info": {
   "codemirror_mode": {
    "name": "ipython",
    "version": 3
   },
   "file_extension": ".py",
   "mimetype": "text/x-python",
   "name": "python",
   "nbconvert_exporter": "python",
   "pygments_lexer": "ipython3",
   "version": "3.7.0"
  }
 },
 "nbformat": 4,
 "nbformat_minor": 2
}
